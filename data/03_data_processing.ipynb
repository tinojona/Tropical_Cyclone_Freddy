{
 "cells": [
  {
   "cell_type": "markdown",
   "id": "d67bc2ee",
   "metadata": {},
   "source": [
    "**Tropical Cyclone Freddy**\n",
    "\n",
    "\n",
    "**How did Pangu-AI-forecast perform on predicting Freddy using ERA5-data as a comparison?**\n",
    "- we have Pangu data initialized: 14.02, 19.02, 23.02\n",
    "\n",
    "**Aim of this notebook**\n",
    "- load both Pangu and ERA5 datasets\n",
    "- save all Pangu initialisations in one .nc file\n",
    "- calculate wind speed metrics\n",
    "- convert pressure measurements\n",
    "- crop to the lat-lon range of interest\n",
    "- save the data in the /data/processed/ folder"
   ]
  },
  {
   "cell_type": "markdown",
   "id": "6ed20dd1",
   "metadata": {},
   "source": [
    "**Import libraries**"
   ]
  },
  {
   "cell_type": "code",
   "execution_count": 1,
   "id": "13ad11ae",
   "metadata": {},
   "outputs": [],
   "source": [
    "import matplotlib.pyplot as plt\n",
    "import matplotlib.colors as colors\n",
    "%matplotlib inline\n",
    "import numpy as np\n",
    "import pandas as pd\n",
    "import cartopy.crs as ccrs\n",
    "import cartopy.feature as cfeature\n",
    "from cartopy.mpl.gridliner import LONGITUDE_FORMATTER, LATITUDE_FORMATTER\n",
    "import xarray as xr\n",
    "from datetime import datetime\n",
    "import sys\n",
    "import warnings\n",
    "from glob import glob\n",
    "import netCDF4 as nc\n",
    "import h5netcdf\n",
    "from matplotlib.colors import LinearSegmentedColormap\n",
    "from matplotlib.dates import DateFormatter, HourLocator\n",
    "import datetime as dt\n",
    "import matplotlib.dates as mdates"
   ]
  },
  {
   "cell_type": "markdown",
   "id": "7497ec2c",
   "metadata": {},
   "source": [
    "**Load the data**"
   ]
  },
  {
   "cell_type": "code",
   "execution_count": 2,
   "id": "9c18686b",
   "metadata": {},
   "outputs": [],
   "source": [
    "## ERA5\n",
    "era =  xr.open_dataset('../data/raw/ERA5/ERA_data_TC_Freddy2.nc')\n",
    "\n",
    "## Pangu in one dataset\n",
    "all_files=sorted(glob('../data/raw/Pangu/TC_FREDD*'))\n",
    "datasets = []\n",
    "for file in all_files:\n",
    "    datasets.append(xr.open_dataset(file))\n",
    "\n",
    "# concenating over the dimension time\n",
    "pangu = xr.concat(datasets, dim='time')  "
   ]
  },
  {
   "cell_type": "markdown",
   "id": "7fb2472b",
   "metadata": {},
   "source": [
    "**Calculate winds speed at 850/500hPa level and at surface level**"
   ]
  },
  {
   "cell_type": "code",
   "execution_count": 3,
   "id": "74312a90",
   "metadata": {},
   "outputs": [],
   "source": [
    "### 850/500 hPA\n",
    "# era\n",
    "era = era.assign(wind_speed = lambda era: (era.u**2 + era.v**2)**0.5)\n",
    "era['wind_speed'].attrs['GRIB_name'] = 'Wind speed'\n",
    "\n",
    "# pangu\n",
    "pangu = pangu.assign(wind_speed = lambda pangu: (pangu.u**2 + pangu.v**2)**0.5)\n",
    "pangu['wind_speed'].attrs['GRIB_name'] = 'Wind speed'\n",
    "pangu['msl'].attrs['GRIB_name'] = 'Mean sea level pressure'\n",
    "\n",
    "### Surface level\n",
    "# era \n",
    "era = era.assign(wind_speed_sfc = lambda era: (era.u10**2 + era.v10**2)**0.5)\n",
    "era['wind_speed_sfc'].attrs['GRIB_name'] = 'Surface wind speed'\n",
    "# pangu \n",
    "\n",
    "pangu = pangu.assign(wind_speed_sfc = lambda pangu: (pangu.u10**2 + pangu.v10**2)**0.5)\n",
    "pangu['wind_speed_sfc'].attrs['GRIB_name'] = 'Surface wind speed'"
   ]
  },
  {
   "cell_type": "markdown",
   "id": "1887f649",
   "metadata": {},
   "source": [
    "**Crop the data to lat 10 - 70**"
   ]
  },
  {
   "cell_type": "code",
   "execution_count": 4,
   "id": "e4637bc4",
   "metadata": {},
   "outputs": [],
   "source": [
    "era_cropped = era.where((era.lon >= 25) & (era.lon <= 65), drop=True)\n",
    "pangu_cropped = pangu.where((pangu.longitude >= 25) & (pangu.longitude <= 65), drop=True)"
   ]
  },
  {
   "cell_type": "markdown",
   "id": "606025f3",
   "metadata": {
    "scrolled": false
   },
   "source": [
    "**Convert Pa to hPa**"
   ]
  },
  {
   "cell_type": "code",
   "execution_count": 5,
   "id": "a43df72b",
   "metadata": {},
   "outputs": [],
   "source": [
    "era_cropped['msl'] = era_cropped['msl'] / 100\n",
    "pangu_cropped['msl'] = pangu_cropped['msl'] / 100\n",
    "pangu_cropped['msl'].attrs['GRIB_name'] = 'Mean sea level pressure'"
   ]
  },
  {
   "cell_type": "markdown",
   "id": "413a3e04-873e-4195-8c36-0e7aeec4bb0e",
   "metadata": {},
   "source": [
    "**Convert units for q**"
   ]
  },
  {
   "cell_type": "code",
   "execution_count": 6,
   "id": "94bb7455-6baf-43ac-a2a6-50286fd24862",
   "metadata": {},
   "outputs": [],
   "source": [
    "era_cropped = era_cropped.assign(q = era_cropped.q * 1000)\n",
    "pangu_cropped = pangu_cropped.assign(q=pangu_cropped.q * 1000)\n",
    "pangu_cropped['q'].attrs['GRIB_name'] = 'Specific humidity'"
   ]
  },
  {
   "cell_type": "markdown",
   "id": "8a35ed86-c5bb-4072-b266-34eff79c0bc3",
   "metadata": {},
   "source": [
    "**Save the processed data**"
   ]
  },
  {
   "cell_type": "code",
   "execution_count": 9,
   "id": "a81b94eb-16d4-4ed5-afb3-5d6c52c1c4bf",
   "metadata": {},
   "outputs": [],
   "source": [
    "# Save ERA5 cropped dataset\n",
    "era_cropped.to_netcdf(\"../data/processed/ERA_processed_TC_Freddy.nc\", mode='w')\n",
    "\n",
    "# Save Pangu cropped dataset\n",
    "pangu_cropped.to_netcdf(\"../data/processed/Pangu_processed_TC_Freddy.nc\", mode='w')"
   ]
  }
 ],
 "metadata": {
  "kernelspec": {
   "display_name": "Python (tc_env)",
   "language": "python",
   "name": "tc_env"
  },
  "language_info": {
   "codemirror_mode": {
    "name": "ipython",
    "version": 3
   },
   "file_extension": ".py",
   "mimetype": "text/x-python",
   "name": "python",
   "nbconvert_exporter": "python",
   "pygments_lexer": "ipython3",
   "version": "3.12.9"
  }
 },
 "nbformat": 4,
 "nbformat_minor": 5
}
